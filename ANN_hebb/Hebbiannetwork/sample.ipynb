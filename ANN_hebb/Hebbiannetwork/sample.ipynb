{
 "cells": [
  {
   "metadata": {
    "ExecuteTime": {
     "end_time": "2024-11-01T12:54:43.717446Z",
     "start_time": "2024-11-01T12:54:43.713940Z"
    }
   },
   "cell_type": "code",
   "source": [
    "import random\n",
    "import numpy as np\n",
    "import pandas as pd"
   ],
   "id": "fbc121e30a2defb3",
   "outputs": [],
   "execution_count": 257
  },
  {
   "metadata": {
    "ExecuteTime": {
     "end_time": "2024-11-01T12:54:43.748679Z",
     "start_time": "2024-11-01T12:54:43.730415Z"
    }
   },
   "cell_type": "code",
   "source": [
    "test = np.array([\n",
    "    #     a1\n",
    "    [\n",
    "        1, -1, -1, 1, -1, -1, -1,\n",
    "        -1, -1, -1, 1, -1, -1, -1,\n",
    "        -1, -1, 1, -1, 1, -1, -1,\n",
    "        -1, -1, 1, -1, 1, -1, -1,\n",
    "        -1, -1, 1, 1, 1, -1, 1,\n",
    "        -1, 1, -1, -1, -1, 1, -1,\n",
    "        -1, 1, -1, 1, -1, 1, -1,\n",
    "        1, -1, -1, 1, -1, -1, 1,\n",
    "        1, -1, -1, 1, -1, -1, 1,\n",
    "    ],\n",
    "\n",
    "    #     a2\n",
    "    [\n",
    "        1, -1, -1, 1, -1, -1, 1,\n",
    "        -1, -1, -1, 1, -1, 1, -1,\n",
    "        1, -1, 1, -1, 1, -1, 1,\n",
    "        -1, -1, 1, -1, 1, -1, 1,\n",
    "        1, -1, 1, 1, 1, -1, 1,\n",
    "        -1, 1, 1, -1, -1, 1, -1,\n",
    "        -1, 1, -1, 1, -1, 1, 1,\n",
    "        1, -1, 1, 1, -1, -1, 1,\n",
    "        1, -1, -1, 1, -1, 1, 1,\n",
    "    ],\n",
    "    #     a13\n",
    "    [\n",
    "        -1, -1, -1, 1, -1, -1, -1,\n",
    "        -1, -1, -1, -1, -1, -1, -1,\n",
    "        -1, -1, -1, -1, 1, -1, -1,\n",
    "        -1, -1, -1, -1, 1, -1, -1,\n",
    "        -1, -1, -1, -1, -1, -1, -1,\n",
    "        -1, -1, -1, -1, -1, -1, -1,\n",
    "        -1, 1, -1, -1, -1, -1, -1,\n",
    "        -1, -1, -1, -1, -1, -1, 1,\n",
    "        -1, -1, -1, -1, -1, -1, 1,\n",
    "    ],\n",
    "    #     a4\n",
    "    [\n",
    "        1, -1, -1, 1, -1, -1, 1,\n",
    "        -1, -1, -1, 1, -1, -1, -1,\n",
    "        1, -1, 1, -1, 1, -1, -1,\n",
    "        -1, -1, 1, -1, 1, -1, -1,\n",
    "        1, -1, 1, 1, 1, -1, 1,\n",
    "        -1, 1, -1, -1, -1, 1, -1,\n",
    "        -1, 1, -1, 1, -1, 1, 1,\n",
    "        1, -1, -1, 1, -1, -1, 1,\n",
    "        1, -1, -1, 1, -1, -1, 1,\n",
    "    ],\n",
    "    #     a5\n",
    "    [\n",
    "        -1, -1, -1, 1, -1, -1, -1,\n",
    "        -1, -1, -1, -1, -1, -1, -1,\n",
    "        -1, -1, 1, -1, 1, -1, -1,\n",
    "        -1, -1, -1, -1, 1, -1, -1,\n",
    "        -1, -1, 1, -1, 1, -1, -1,\n",
    "        -1, 1, -1, -1, -1, -1, -1,\n",
    "        -1, 1, -1, -1, -1, -1, -1,\n",
    "        1, -1, -1, -1, -1, -1, 1,\n",
    "        1, -1, -1, -1, -1, -1, 1,\n",
    "    ],\n",
    "    #     a6\n",
    "    [\n",
    "        -1, -1, -1, 1, -1, -1, -1,\n",
    "        -1, -1, -1, -1, -1, -1, -1,\n",
    "        -1, -1, -1, -1, -1, -1, -1,\n",
    "        -1, -1, -1, -1, -1, -1, -1,\n",
    "        -1, -1, -1, -1, -1, -1, -1,\n",
    "        -1, -1, -1, -1, -1, -1, -1,\n",
    "        -1, -1, -1, -1, -1, -1, -1,\n",
    "        -1, -1, -1, -1, -1, -1, -1,\n",
    "        -1, -1, -1, -1, -1, -1, 1,\n",
    "    ],\n",
    "    #     a7\n",
    "    [\n",
    "        1, -1, -1, 1, -1, -1, 1,\n",
    "        -1, -1, -1, 1, -1, 1, -1,\n",
    "        1, -1, 1, -1, 1, -1, -1,\n",
    "        -1, -1, 1, -1, 1, -1, -1,\n",
    "        1, -1, 1, 1, 1, -1, 1,\n",
    "        -1, 1, 1, -1, -1, 1, -1,\n",
    "        -1, 1, -1, 1, -1, 1, 1,\n",
    "        1, -1, -1, 1, -1, -1, 1,\n",
    "        1, -1, -1, 1, -1, -1, 1,\n",
    "    ],\n",
    "    #     a8\n",
    "    [\n",
    "        -1, -1, -1, 1, -1, -1, -1,\n",
    "        -1, -1, -1, -1, -1, -1, -1,\n",
    "        -1, -1, -1, -1, 1, -1, -1,\n",
    "        -1, -1, -1, -1, 1, -1, -1,\n",
    "        -1, -1, 1, -1, -1, -1, -1,\n",
    "        -1, 1, -1, -1, -1, -1, -1,\n",
    "        -1, 1, -1, -1, -1, -1, -1,\n",
    "        -1, -1, -1, -1, -1, -1, 1,\n",
    "        -1, -1, -1, -1, -1, -1, 1,\n",
    "    ],\n",
    "    #     a9\n",
    "    [\n",
    "        -1, -1, 1, 1, -1, 1, -1,\n",
    "        -1, 1, -1, 1, 1, -1, -1,\n",
    "        1, -1, 1, 1, 1, -1, 1,\n",
    "        -1, -1, -1, -1, 1, 1, -1,\n",
    "        -1, 1, 1, 1, -1, -1, -1,\n",
    "        1, 1, -1, 1, -1, 1, 1,\n",
    "        -1, 1, 1, -1, -1, -1, -1,\n",
    "        1, 1, -1, -1, 1, -1, 1,\n",
    "        -1, -1, -1, 1, -1, -1, -1,\n",
    "    ],\n",
    "    #     b1\n",
    "    [\n",
    "        -1, 1, 1, -1, 1, -1, -1,\n",
    "        1, -1, 1, -1, -1, -1, -1,\n",
    "        1, 1, -1, -1, 1, -1, 1,\n",
    "        -1, -1, -1, 1, -1, -1, -1,\n",
    "        1, 1, -1, 1, 1, 1, -1,\n",
    "        1, 1, -1, -1, 1, -1, -1,\n",
    "        -1, -1, -1, 1, -1, -1, -1,\n",
    "        1, -1, 1, -1, -1, -1, -1,\n",
    "        1, -1, 1, 1, -1, -1, -1,\n",
    "    ],\n",
    "    #     c\n",
    "    [\n",
    "        1, -1, 1, -1, 1, -1, 1,\n",
    "        -1, 1, 1, -1, -1, -1, -1,\n",
    "        1, 1, -1, -1, 1, -1, 1,\n",
    "        -1, -1, -1, 1, -1, -1, 1,\n",
    "        1, -1, 1, -1, -1, 1, -1,\n",
    "        1, 1, -1, -1, 1, -1, -1,\n",
    "        -1, -1, -1, 1, -1, -1, -1,\n",
    "        -1, 1, 1, -1, -1, -1, -1,\n",
    "        -1, 1, 1, 1, -1, -1, -1,\n",
    "    ],\n",
    "\n",
    "])"
   ],
   "id": "53df97e22d9df908",
   "outputs": [],
   "execution_count": 258
  },
  {
   "metadata": {
    "ExecuteTime": {
     "end_time": "2024-11-01T12:54:43.779345Z",
     "start_time": "2024-11-01T12:54:43.766562Z"
    }
   },
   "cell_type": "code",
   "source": [
    "data = pd.read_csv('data/data.csv')\n",
    "output = pd.read_csv('data/labeldata.csv')\n",
    "output.head(10)"
   ],
   "id": "5381141712f2f006",
   "outputs": [
    {
     "data": {
      "text/plain": [
       "   label  pixel 0  pixel 1  pixel 2  pixel 3  pixel 4  pixel 5  pixel 6  \\\n",
       "0      1       -1        1       -1        1       -1        1        1   \n",
       "1      2        1        1       -1        1       -1        1        1   \n",
       "2      3        1        1        1        1       -1       -1        1   \n",
       "\n",
       "   pixel 7  pixel 8  pixel 9  pixel 10  pixel 11  pixel 12  pixel 13  pixel 14  \n",
       "0        1        1        1        -1         1         1        -1         1  \n",
       "1        1       -1        1        -1         1         1         1        -1  \n",
       "2       -1       -1        1        -1        -1         1         1         1  "
      ],
      "text/html": [
       "<div>\n",
       "<style scoped>\n",
       "    .dataframe tbody tr th:only-of-type {\n",
       "        vertical-align: middle;\n",
       "    }\n",
       "\n",
       "    .dataframe tbody tr th {\n",
       "        vertical-align: top;\n",
       "    }\n",
       "\n",
       "    .dataframe thead th {\n",
       "        text-align: right;\n",
       "    }\n",
       "</style>\n",
       "<table border=\"1\" class=\"dataframe\">\n",
       "  <thead>\n",
       "    <tr style=\"text-align: right;\">\n",
       "      <th></th>\n",
       "      <th>label</th>\n",
       "      <th>pixel 0</th>\n",
       "      <th>pixel 1</th>\n",
       "      <th>pixel 2</th>\n",
       "      <th>pixel 3</th>\n",
       "      <th>pixel 4</th>\n",
       "      <th>pixel 5</th>\n",
       "      <th>pixel 6</th>\n",
       "      <th>pixel 7</th>\n",
       "      <th>pixel 8</th>\n",
       "      <th>pixel 9</th>\n",
       "      <th>pixel 10</th>\n",
       "      <th>pixel 11</th>\n",
       "      <th>pixel 12</th>\n",
       "      <th>pixel 13</th>\n",
       "      <th>pixel 14</th>\n",
       "    </tr>\n",
       "  </thead>\n",
       "  <tbody>\n",
       "    <tr>\n",
       "      <th>0</th>\n",
       "      <td>1</td>\n",
       "      <td>-1</td>\n",
       "      <td>1</td>\n",
       "      <td>-1</td>\n",
       "      <td>1</td>\n",
       "      <td>-1</td>\n",
       "      <td>1</td>\n",
       "      <td>1</td>\n",
       "      <td>1</td>\n",
       "      <td>1</td>\n",
       "      <td>1</td>\n",
       "      <td>-1</td>\n",
       "      <td>1</td>\n",
       "      <td>1</td>\n",
       "      <td>-1</td>\n",
       "      <td>1</td>\n",
       "    </tr>\n",
       "    <tr>\n",
       "      <th>1</th>\n",
       "      <td>2</td>\n",
       "      <td>1</td>\n",
       "      <td>1</td>\n",
       "      <td>-1</td>\n",
       "      <td>1</td>\n",
       "      <td>-1</td>\n",
       "      <td>1</td>\n",
       "      <td>1</td>\n",
       "      <td>1</td>\n",
       "      <td>-1</td>\n",
       "      <td>1</td>\n",
       "      <td>-1</td>\n",
       "      <td>1</td>\n",
       "      <td>1</td>\n",
       "      <td>1</td>\n",
       "      <td>-1</td>\n",
       "    </tr>\n",
       "    <tr>\n",
       "      <th>2</th>\n",
       "      <td>3</td>\n",
       "      <td>1</td>\n",
       "      <td>1</td>\n",
       "      <td>1</td>\n",
       "      <td>1</td>\n",
       "      <td>-1</td>\n",
       "      <td>-1</td>\n",
       "      <td>1</td>\n",
       "      <td>-1</td>\n",
       "      <td>-1</td>\n",
       "      <td>1</td>\n",
       "      <td>-1</td>\n",
       "      <td>-1</td>\n",
       "      <td>1</td>\n",
       "      <td>1</td>\n",
       "      <td>1</td>\n",
       "    </tr>\n",
       "  </tbody>\n",
       "</table>\n",
       "</div>"
      ]
     },
     "execution_count": 259,
     "metadata": {},
     "output_type": "execute_result"
    }
   ],
   "execution_count": 259
  },
  {
   "metadata": {
    "ExecuteTime": {
     "end_time": "2024-11-01T12:54:43.831113Z",
     "start_time": "2024-11-01T12:54:43.827440Z"
    }
   },
   "cell_type": "code",
   "source": [
    "input_size = 63\n",
    "output_size = 15\n",
    "\n",
    "activation_fn = lambda x: np.where(x > 0, 1, -1)\n",
    "\n",
    "\n",
    "def hebbian_learning(inputs, outputs):\n",
    "    weights = np.zeros((input_size, output_size))\n",
    "    for x, y in zip(inputs, outputs):\n",
    "        #print(x, y)\n",
    "        weights += np.outer(x, y)\n",
    "    #print(weights)\n",
    "    return weights"
   ],
   "id": "d245c248fe5e3466",
   "outputs": [],
   "execution_count": 260
  },
  {
   "metadata": {
    "ExecuteTime": {
     "end_time": "2024-11-01T12:54:43.883414Z",
     "start_time": "2024-11-01T12:54:43.878458Z"
    }
   },
   "cell_type": "code",
   "source": [
    "def test_hebbian_network(test_data, weights):\n",
    "    raw_output = np.dot(test_data, weights)\n",
    "    #print(raw_output)\n",
    "    hebb_output = activation_fn(raw_output)\n",
    "    return hebb_output"
   ],
   "id": "3802631c79460b40",
   "outputs": [],
   "execution_count": 261
  },
  {
   "metadata": {
    "ExecuteTime": {
     "end_time": "2024-11-01T12:54:43.922260Z",
     "start_time": "2024-11-01T12:54:43.917329Z"
    }
   },
   "cell_type": "code",
   "source": [
    "d_train_X = np.array(data.drop(['label'], axis=1))\n",
    "d_train_y = np.array(output.drop(['label'], axis=1))"
   ],
   "id": "697b777a968906f5",
   "outputs": [],
   "execution_count": 262
  },
  {
   "metadata": {
    "ExecuteTime": {
     "end_time": "2024-11-01T12:54:43.946820Z",
     "start_time": "2024-11-01T12:54:43.943397Z"
    }
   },
   "cell_type": "code",
   "source": [
    "#print(d_train_X)\n",
    "#print(d_train_y)"
   ],
   "id": "47fd9314dfc29c89",
   "outputs": [],
   "execution_count": 263
  },
  {
   "metadata": {
    "ExecuteTime": {
     "end_time": "2024-11-01T12:54:43.994671Z",
     "start_time": "2024-11-01T12:54:43.991175Z"
    }
   },
   "cell_type": "code",
   "source": [
    "hebbian_weights = hebbian_learning(d_train_X, d_train_y)\n",
    "#print(hebbian_weights)"
   ],
   "id": "b7f186a81a7bc794",
   "outputs": [],
   "execution_count": 264
  },
  {
   "metadata": {
    "ExecuteTime": {
     "end_time": "2024-11-01T12:54:44.005154Z",
     "start_time": "2024-11-01T12:54:43.998658Z"
    }
   },
   "cell_type": "code",
   "source": [
    "def find_most_similar(test_vector, candidate_vectors):\n",
    "    similarities = np.dot(candidate_vectors, test_vector)\n",
    "    most_similar_index = np.argmax(similarities)\n",
    "    return most_similar_index"
   ],
   "id": "120f061307767897",
   "outputs": [],
   "execution_count": 265
  },
  {
   "metadata": {
    "ExecuteTime": {
     "end_time": "2024-11-01T12:54:44.035648Z",
     "start_time": "2024-11-01T12:54:44.027748Z"
    }
   },
   "cell_type": "code",
   "source": [
    "for test_data in test:\n",
    "    output = test_hebbian_network(test_data, hebbian_weights)\n",
    "    print(output)\n",
    "    if np.array_equal(output, d_train_y[0]):\n",
    "        print(\"A\")\n",
    "    elif np.array_equal(output, d_train_y[1]):\n",
    "        print(\"B\")\n",
    "    elif np.array_equal(output, d_train_y[2]):\n",
    "        print(\"C\")\n",
    "    else:\n",
    "        print(\"?\")\n",
    "        most = find_most_similar(output, d_train_y)\n",
    "        match most:\n",
    "            case 0:\n",
    "                print(\"A\")\n",
    "            case 1:\n",
    "                print(\"B\")\n",
    "            case 2:\n",
    "                print(\"C\")\n",
    "               "
   ],
   "id": "92ee24180a2bc2ce",
   "outputs": [
    {
     "name": "stdout",
     "output_type": "stream",
     "text": [
      "[-1  1 -1  1 -1  1  1  1  1  1 -1  1  1 -1  1]\n",
      "A\n",
      "[-1  1 -1  1 -1  1  1  1  1  1 -1  1  1 -1  1]\n",
      "A\n",
      "[-1  1 -1  1 -1  1  1  1  1  1 -1  1  1 -1  1]\n",
      "A\n",
      "[-1  1 -1  1 -1  1  1  1  1  1 -1  1  1 -1  1]\n",
      "A\n",
      "[-1  1 -1  1 -1  1  1  1  1  1 -1  1  1 -1  1]\n",
      "A\n",
      "[ 1  1 -1  1 -1  1  1  1 -1  1 -1  1  1  1  1]\n",
      "?\n",
      "B\n",
      "[-1  1 -1  1 -1  1  1  1  1  1 -1  1  1 -1  1]\n",
      "A\n",
      "[-1  1 -1  1 -1  1  1  1  1  1 -1  1  1 -1  1]\n",
      "A\n",
      "[-1  1 -1  1 -1  1  1  1  1  1 -1  1  1 -1  1]\n",
      "A\n",
      "[ 1  1 -1  1 -1  1  1  1 -1  1 -1  1  1  1 -1]\n",
      "B\n",
      "[ 1  1  1  1 -1 -1  1 -1 -1  1 -1 -1  1  1  1]\n",
      "C\n"
     ]
    }
   ],
   "execution_count": 266
  }
 ],
 "metadata": {
  "kernelspec": {
   "display_name": "Python 3",
   "language": "python",
   "name": "python3"
  },
  "language_info": {
   "codemirror_mode": {
    "name": "ipython",
    "version": 2
   },
   "file_extension": ".py",
   "mimetype": "text/x-python",
   "name": "python",
   "nbconvert_exporter": "python",
   "pygments_lexer": "ipython2",
   "version": "2.7.6"
  }
 },
 "nbformat": 4,
 "nbformat_minor": 5
}
